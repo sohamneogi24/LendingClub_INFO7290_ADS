{
 "cells": [
  {
   "cell_type": "code",
   "execution_count": 6,
   "metadata": {
    "collapsed": true
   },
   "outputs": [],
   "source": [
    "import pandas as pd\n",
    "from sklearn.model_selection import train_test_split\n",
    "from sklearn.metrics import accuracy_score\n",
    "from sklearn.metrics import mean_absolute_error\n",
    "from sklearn.metrics import mean_squared_error\n",
    "from sklearn.linear_model import LinearRegression\n",
    "from sklearn.model_selection import cross_val_score\n",
    "from sklearn.ensemble import RandomForestRegressor\n",
    "from sklearn.neighbors import KNeighborsRegressor\n",
    "from sklearn.metrics import r2_score\n",
    "from sklearn.preprocessing import StandardScaler\n",
    "import numpy as np\n",
    "import math"
   ]
  },
  {
   "cell_type": "code",
   "execution_count": 7,
   "metadata": {
    "collapsed": true
   },
   "outputs": [],
   "source": [
    "cluster1_df = pd.read_csv('Manual_Grade_Cluster_0.csv',low_memory=False)\n",
    "\n",
    "cluster2_df = pd.read_csv('Manual_Grade_Cluster_1.csv',low_memory=False)\n",
    "\n",
    "cluster3_df = pd.read_csv('Manual_Grade_Cluster_2.csv',low_memory=False)\n",
    "\n",
    "cluster4_df = pd.read_csv('Manual_Grade_Cluster_3.csv',low_memory=False)\n",
    "\n",
    "cluster5_df = pd.read_csv('Manual_Grade_Cluster_4.csv',low_memory=False)\n",
    "\n",
    "cluster6_df = pd.read_csv('Manual_Grade_Cluster_5.csv',low_memory=False)"
   ]
  },
  {
   "cell_type": "code",
   "execution_count": 8,
   "metadata": {
    "collapsed": true
   },
   "outputs": [],
   "source": [
    "cluster_df_list=[cluster1_df,cluster2_df,cluster3_df,cluster4_df,cluster5_df,cluster6_df]"
   ]
  },
  {
   "cell_type": "code",
   "execution_count": null,
   "metadata": {
    "collapsed": true
   },
   "outputs": [],
   "source": [
    "def mean_absolute_percentage_error(y_true, y_pred): \n",
    "    y_true, y_pred = np.array(y_true), np.array(y_pred)\n",
    "    return np.mean(np.abs((y_true - y_pred) / y_true)) * 100"
   ]
  },
  {
   "cell_type": "code",
   "execution_count": null,
   "metadata": {},
   "outputs": [
    {
     "name": "stdout",
     "output_type": "stream",
     "text": [
      "MAE :  0.279163254245\n",
      "RMSE :  0.3654761009395871\n",
      "MAPE :  3.90280985576\n",
      "Training score :  0.920682831238\n",
      "Testing score :  0.869841563089\n",
      "MAE :  0.642635023247\n",
      "RMSE :  0.8125955380280095\n",
      "MAPE :  6.03390365656\n"
     ]
    }
   ],
   "source": [
    "for df in cluster_df_list:\n",
    "    df = df[df['int_rate'].notnull()]\n",
    "    x_set = df.drop(['int_rate'], axis=1)\n",
    "    y_set = df['int_rate']\n",
    "    x_train, x_test, y_train, y_test = train_test_split(x_set, y_set, random_state=0)\n",
    "    x_train = StandardScaler().fit_transform(x_train)\n",
    "    x_test = StandardScaler().fit_transform(x_test)\n",
    "    \n",
    "    knn = KNeighborsRegressor(n_neighbors=4)\n",
    "    knn.fit(x_train,y_train.values.ravel())\n",
    "    knn_predictions = knn.predict(x_test)\n",
    "    \n",
    "    print(\"MAE : \", mean_absolute_error(y_test, knn_predictions))\n",
    "    print(\"RMSE : \", math.sqrt(mean_squared_error(y_test, knn_predictions)))\n",
    "    print(\"MAPE : \", mean_absolute_percentage_error(y_test, knn_predictions))\n",
    "    print(\"Training score : \", knn.score(x_train, y_train))\n",
    "    print(\"Testing score : \", knn.score(x_test, y_test))"
   ]
  }
 ],
 "metadata": {
  "kernelspec": {
   "display_name": "Python 3",
   "language": "python",
   "name": "python3"
  },
  "language_info": {
   "codemirror_mode": {
    "name": "ipython",
    "version": 3
   },
   "file_extension": ".py",
   "mimetype": "text/x-python",
   "name": "python",
   "nbconvert_exporter": "python",
   "pygments_lexer": "ipython3",
   "version": "3.6.3"
  }
 },
 "nbformat": 4,
 "nbformat_minor": 2
}
