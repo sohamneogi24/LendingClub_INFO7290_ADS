{
 "cells": [
  {
   "cell_type": "code",
   "execution_count": 22,
   "metadata": {
    "collapsed": true
   },
   "outputs": [],
   "source": [
    "import pandas as pd\n",
    "from sklearn.model_selection import train_test_split\n",
    "from sklearn.metrics import accuracy_score\n",
    "from sklearn.metrics import mean_absolute_error\n",
    "from sklearn.metrics import mean_squared_error\n",
    "from sklearn.linear_model import LinearRegression\n",
    "from sklearn.model_selection import cross_val_score\n",
    "import numpy as np\n",
    "import math"
   ]
  },
  {
   "cell_type": "code",
   "execution_count": 17,
   "metadata": {},
   "outputs": [],
   "source": [
    "cluster1_df = pd.read_csv('Manual_Grade_Cluster_0.csv',low_memory=False)\n",
    "\n",
    "cluster2_df = pd.read_csv('Manual_Grade_Cluster_1.csv',low_memory=False)\n",
    "\n",
    "cluster3_df = pd.read_csv('Manual_Grade_Cluster_2.csv',low_memory=False)\n",
    "\n",
    "cluster4_df = pd.read_csv('Manual_Grade_Cluster_3.csv',low_memory=False)\n",
    "\n",
    "cluster5_df = pd.read_csv('Manual_Grade_Cluster_4.csv',low_memory=False)\n",
    "\n",
    "cluster6_df = pd.read_csv('Manual_Grade_Cluster_5.csv',low_memory=False)"
   ]
  },
  {
   "cell_type": "code",
   "execution_count": 18,
   "metadata": {
    "collapsed": true
   },
   "outputs": [],
   "source": [
    "cluster_df_list=[cluster1_df,cluster2_df,cluster3_df,cluster4_df,cluster5_df,cluster6_df]"
   ]
  },
  {
   "cell_type": "code",
   "execution_count": 19,
   "metadata": {},
   "outputs": [
    {
     "name": "stdout",
     "output_type": "stream",
     "text": [
      "<class 'pandas.core.frame.DataFrame'>\n",
      "RangeIndex: 265693 entries, 0 to 265692\n",
      "Data columns (total 55 columns):\n",
      "risk_score            265693 non-null float64\n",
      "loan_amnt             265693 non-null float64\n",
      "term                  265693 non-null int64\n",
      "dti                   265693 non-null float64\n",
      "annual_inc            265693 non-null float64\n",
      "int_rate              265693 non-null float64\n",
      "car                   265693 non-null int64\n",
      "credit_card           265693 non-null int64\n",
      "debt_consolidation    265693 non-null int64\n",
      "educational           265693 non-null int64\n",
      "home_improvement      265693 non-null int64\n",
      "house                 265693 non-null int64\n",
      "major_purchase        265693 non-null int64\n",
      "medical               265693 non-null int64\n",
      "moving                265693 non-null int64\n",
      "other                 265693 non-null int64\n",
      "renewable_energy      265693 non-null int64\n",
      "small_business        265693 non-null int64\n",
      "vacation              265693 non-null int64\n",
      "wedding               265693 non-null int64\n",
      "A1                    265693 non-null int64\n",
      "A2                    265693 non-null int64\n",
      "A3                    265693 non-null int64\n",
      "A4                    265693 non-null int64\n",
      "A5                    265693 non-null int64\n",
      "B1                    265693 non-null int64\n",
      "B2                    265693 non-null int64\n",
      "B3                    265693 non-null int64\n",
      "B4                    265693 non-null int64\n",
      "B5                    265693 non-null int64\n",
      "C1                    265693 non-null int64\n",
      "C2                    265693 non-null int64\n",
      "C3                    265693 non-null int64\n",
      "C4                    265693 non-null int64\n",
      "C5                    265693 non-null int64\n",
      "D1                    265693 non-null int64\n",
      "D2                    265693 non-null int64\n",
      "D3                    265693 non-null int64\n",
      "D4                    265693 non-null int64\n",
      "D5                    265693 non-null int64\n",
      "E1                    265693 non-null int64\n",
      "E2                    265693 non-null int64\n",
      "E3                    265693 non-null int64\n",
      "E4                    265693 non-null int64\n",
      "E5                    265693 non-null int64\n",
      "F1                    265693 non-null int64\n",
      "F2                    265693 non-null int64\n",
      "F3                    265693 non-null int64\n",
      "F4                    265693 non-null int64\n",
      "F5                    265693 non-null int64\n",
      "G1                    265693 non-null int64\n",
      "G2                    265693 non-null int64\n",
      "G3                    265693 non-null int64\n",
      "G4                    265693 non-null int64\n",
      "G5                    265693 non-null int64\n",
      "dtypes: float64(5), int64(50)\n",
      "memory usage: 111.5 MB\n"
     ]
    }
   ],
   "source": [
    "cluster1_df.info()"
   ]
  },
  {
   "cell_type": "code",
   "execution_count": 20,
   "metadata": {
    "collapsed": true
   },
   "outputs": [],
   "source": [
    "def mean_absolute_percentage_error(y_true, y_pred): \n",
    "    y_true, y_pred = np.array(y_true), np.array(y_pred)\n",
    "    return np.mean(np.abs((y_true - y_pred) / y_true)) * 100"
   ]
  },
  {
   "cell_type": "code",
   "execution_count": 23,
   "metadata": {},
   "outputs": [
    {
     "name": "stdout",
     "output_type": "stream",
     "text": [
      "MAE :  0.269842478608\n",
      "RMSE :  0.3335676058986786\n",
      "MAPE :  3.78647936978\n",
      "Training score :  0.889606875322\n",
      "Testing score :  0.891576831615\n",
      "MAE :  0.619260611347\n",
      "RMSE :  0.7439753581056539\n",
      "MAPE :  5.81725524912\n",
      "Training score :  0.686229986173\n",
      "Testing score :  0.684984242736\n",
      "MAE :  0.515230515722\n",
      "RMSE :  0.7041848049800877\n",
      "MAPE :  3.65170577996\n",
      "Training score :  0.665505070976\n",
      "Testing score :  0.663014009509\n",
      "MAE :  0.912349709511\n",
      "RMSE :  1.0723352268842499\n",
      "MAPE :  5.19662459084\n",
      "Training score :  0.47794931878\n",
      "Testing score :  0.477837660864\n",
      "MAE :  1.50738797358\n",
      "RMSE :  1.85121256685329\n",
      "MAPE :  7.26219883277\n",
      "Training score :  0.136959391908\n",
      "Testing score :  0.14228784376\n",
      "MAE :  0.71684705615\n",
      "RMSE :  1.2155754743197789\n",
      "MAPE :  3.43599768724\n",
      "Training score :  0.26035806429\n",
      "Testing score :  0.254476030155\n"
     ]
    }
   ],
   "source": [
    "for df in cluster_df_list:\n",
    "    df = df[df['int_rate'].notnull()]\n",
    "    x_set = df.drop(['int_rate'], axis=1)\n",
    "    y_set = df['int_rate']\n",
    "    x_train, x_test, y_train, y_test = train_test_split(x_set, y_set, random_state=0)\n",
    "    \n",
    "    linearRegr = LinearRegression()\n",
    "    linearRegr.fit(x_train, y_train)\n",
    "    linearRegr_predictions = linearRegr.predict(x_test)\n",
    "    \n",
    "    print(\"MAE : \",mean_absolute_error(y_test, linearRegr_predictions))\n",
    "    print(\"RMSE : \",math.sqrt(mean_squared_error(y_test, linearRegr_predictions)))\n",
    "    print(\"MAPE : \",mean_absolute_percentage_error(y_test, linearRegr_predictions))\n",
    "\n",
    "    print(\"Training score : \",linearRegr.score(x_train, y_train))\n",
    "    print(\"Testing score : \",linearRegr.score(x_test, y_test))"
   ]
  }
 ],
 "metadata": {
  "kernelspec": {
   "display_name": "Python 3",
   "language": "python",
   "name": "python3"
  },
  "language_info": {
   "codemirror_mode": {
    "name": "ipython",
    "version": 3
   },
   "file_extension": ".py",
   "mimetype": "text/x-python",
   "name": "python",
   "nbconvert_exporter": "python",
   "pygments_lexer": "ipython3",
   "version": "3.6.3"
  }
 },
 "nbformat": 4,
 "nbformat_minor": 2
}
