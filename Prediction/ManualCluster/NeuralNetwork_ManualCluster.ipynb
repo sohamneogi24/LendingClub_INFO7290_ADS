{
 "cells": [
  {
   "cell_type": "code",
   "execution_count": 6,
   "metadata": {
    "collapsed": true
   },
   "outputs": [],
   "source": [
    "import pandas as pd\n",
    "from sklearn.model_selection import train_test_split\n",
    "from sklearn.metrics import accuracy_score\n",
    "from sklearn.metrics import mean_absolute_error\n",
    "from sklearn.metrics import mean_squared_error\n",
    "from sklearn.linear_model import LinearRegression\n",
    "from sklearn.model_selection import cross_val_score\n",
    "from sklearn.ensemble import RandomForestRegressor\n",
    "from sklearn.neighbors import KNeighborsRegressor\n",
    "from sklearn.metrics import r2_score\n",
    "import numpy as np\n",
    "from sklearn.preprocessing import StandardScaler\n",
    "from sklearn.neural_network import MLPRegressor\n",
    "import math"
   ]
  },
  {
   "cell_type": "code",
   "execution_count": 2,
   "metadata": {
    "collapsed": true
   },
   "outputs": [],
   "source": [
    "cluster1_df = pd.read_csv('Manual_Grade_Cluster_0.csv',low_memory=False)\n",
    "\n",
    "cluster2_df = pd.read_csv('Manual_Grade_Cluster_1.csv',low_memory=False)\n",
    "\n",
    "cluster3_df = pd.read_csv('Manual_Grade_Cluster_2.csv',low_memory=False)\n",
    "\n",
    "cluster4_df = pd.read_csv('Manual_Grade_Cluster_3.csv',low_memory=False)\n",
    "\n",
    "cluster5_df = pd.read_csv('Manual_Grade_Cluster_4.csv',low_memory=False)\n",
    "\n",
    "cluster6_df = pd.read_csv('Manual_Grade_Cluster_5.csv',low_memory=False)"
   ]
  },
  {
   "cell_type": "code",
   "execution_count": 3,
   "metadata": {
    "collapsed": true
   },
   "outputs": [],
   "source": [
    "cluster_df_list=[cluster1_df,cluster2_df,cluster3_df,cluster4_df,cluster5_df,cluster6_df]"
   ]
  },
  {
   "cell_type": "code",
   "execution_count": 4,
   "metadata": {
    "collapsed": true
   },
   "outputs": [],
   "source": [
    "def mean_absolute_percentage_error(y_true, y_pred): \n",
    "    y_true, y_pred = np.array(y_true), np.array(y_pred)\n",
    "    return np.mean(np.abs((y_true - y_pred) / y_true)) * 100"
   ]
  },
  {
   "cell_type": "code",
   "execution_count": 7,
   "metadata": {},
   "outputs": [
    {
     "name": "stdout",
     "output_type": "stream",
     "text": [
      "MAE :  0.26645728507\n",
      "RMSE :  0.33175564622126313\n",
      "MAPE :  3.7374167414\n",
      "Training score :  0.892142851969\n",
      "Testing score :  0.892751554931\n",
      "MAE :  0.610514202639\n",
      "RMSE :  0.7364954795367837\n",
      "MAPE :  5.73661412862\n",
      "Training score :  0.69757424763\n",
      "Testing score :  0.691286695222\n",
      "MAE :  0.516992196089\n",
      "RMSE :  0.7000239288303889\n",
      "MAPE :  3.665821917\n",
      "Training score :  0.670372506474\n",
      "Testing score :  0.666984599158\n",
      "MAE :  0.90469846446\n",
      "RMSE :  1.0687276677696198\n",
      "MAPE :  5.15437025533\n",
      "Training score :  0.48467636267\n",
      "Testing score :  0.481345076877\n",
      "MAE :  1.49963697892\n",
      "RMSE :  1.8453651591365379\n",
      "MAPE :  7.21909798707\n",
      "Training score :  0.157073868576\n",
      "Testing score :  0.147697780722\n",
      "MAE :  0.767229871505\n",
      "RMSE :  1.27563249073404\n",
      "MAPE :  3.64844957553\n",
      "Training score :  0.305458298606\n",
      "Testing score :  0.178989147673\n"
     ]
    }
   ],
   "source": [
    "for df in cluster_df_list:\n",
    "    df = df[df['int_rate'].notnull()]\n",
    "    x_set = df.drop(['int_rate'], axis=1)\n",
    "    y_set = df['int_rate']\n",
    "    x_train, x_test, y_train, y_test = train_test_split(x_set, y_set, random_state=0)\n",
    "    x_train = StandardScaler().fit_transform(x_train)\n",
    "    x_test = StandardScaler().fit_transform(x_test)\n",
    "\n",
    "    mlp = MLPRegressor(solver='lbfgs', hidden_layer_sizes=50,\n",
    "                               max_iter=150, shuffle=True, random_state=1)\n",
    "    mlp.fit(x_train, y_train)\n",
    "    mlp_predictions = mlp.predict(x_test)\n",
    "    print(\"MAE : \", mean_absolute_error(y_test, mlp_predictions))\n",
    "    print(\"RMSE : \", math.sqrt(mean_squared_error(y_test, mlp_predictions)))\n",
    "    print(\"MAPE : \", mean_absolute_percentage_error(y_test, mlp_predictions))\n",
    "    print(\"Training score : \", mlp.score(x_train, y_train))\n",
    "    print(\"Testing score : \", mlp.score(x_test, y_test))"
   ]
  }
 ],
 "metadata": {
  "kernelspec": {
   "display_name": "Python 3",
   "language": "python",
   "name": "python3"
  },
  "language_info": {
   "codemirror_mode": {
    "name": "ipython",
    "version": 3
   },
   "file_extension": ".py",
   "mimetype": "text/x-python",
   "name": "python",
   "nbconvert_exporter": "python",
   "pygments_lexer": "ipython3",
   "version": "3.6.3"
  }
 },
 "nbformat": 4,
 "nbformat_minor": 2
}
