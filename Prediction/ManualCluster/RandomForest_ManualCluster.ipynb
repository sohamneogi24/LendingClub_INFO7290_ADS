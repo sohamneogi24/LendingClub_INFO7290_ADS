{
 "cells": [
  {
   "cell_type": "code",
   "execution_count": 11,
   "metadata": {
    "collapsed": true
   },
   "outputs": [],
   "source": [
    "import pandas as pd\n",
    "from sklearn.model_selection import train_test_split\n",
    "from sklearn.metrics import accuracy_score\n",
    "from sklearn.metrics import mean_absolute_error\n",
    "from sklearn.metrics import mean_squared_error\n",
    "from sklearn.linear_model import LinearRegression\n",
    "from sklearn.model_selection import cross_val_score\n",
    "from sklearn.ensemble import RandomForestRegressor\n",
    "from sklearn.neighbors import KNeighborsRegressor\n",
    "from sklearn.metrics import r2_score\n",
    "from sklearn.preprocessing import StandardScaler\n",
    "import numpy as np\n",
    "import math"
   ]
  },
  {
   "cell_type": "code",
   "execution_count": 12,
   "metadata": {
    "collapsed": true
   },
   "outputs": [],
   "source": [
    "def mean_absolute_percentage_error(y_true, y_pred): \n",
    "    y_true, y_pred = np.array(y_true), np.array(y_pred)\n",
    "    return np.mean(np.abs((y_true - y_pred) / y_true)) * 100"
   ]
  },
  {
   "cell_type": "code",
   "execution_count": 13,
   "metadata": {
    "collapsed": true
   },
   "outputs": [],
   "source": [
    "cluster1_df = pd.read_csv('Manual_Grade_Cluster_0.csv',low_memory=False)\n",
    "\n",
    "cluster2_df = pd.read_csv('Manual_Grade_Cluster_1.csv',low_memory=False)\n",
    "\n",
    "cluster3_df = pd.read_csv('Manual_Grade_Cluster_2.csv',low_memory=False)\n",
    "\n",
    "cluster4_df = pd.read_csv('Manual_Grade_Cluster_3.csv',low_memory=False)\n",
    "\n",
    "cluster5_df = pd.read_csv('Manual_Grade_Cluster_4.csv',low_memory=False)\n",
    "\n",
    "cluster6_df = pd.read_csv('Manual_Grade_Cluster_5.csv',low_memory=False)"
   ]
  },
  {
   "cell_type": "code",
   "execution_count": 14,
   "metadata": {
    "collapsed": true
   },
   "outputs": [],
   "source": [
    "cluster_df_list=[cluster1_df,cluster2_df,cluster3_df,cluster4_df,cluster5_df,cluster6_df]"
   ]
  },
  {
   "cell_type": "code",
   "execution_count": 16,
   "metadata": {},
   "outputs": [
    {
     "name": "stdout",
     "output_type": "stream",
     "text": [
      "MAE :  0.280452259725\n",
      "RMSE :  0.3563519229754372\n",
      "MAPE :  3.94189815976\n",
      "MAE :  0.650362055192\n",
      "RMSE :  0.7986512834473801\n",
      "MAPE :  6.11883294561\n",
      "MAE :  0.569444165629\n",
      "RMSE :  0.7503417175129834\n",
      "MAPE :  4.05686915179\n",
      "MAE :  0.928304480714\n",
      "RMSE :  1.143861871565895\n",
      "MAPE :  5.27946930544\n",
      "MAE :  1.58251349202\n",
      "RMSE :  1.9783045783286337\n",
      "MAPE :  7.62592431869\n",
      "MAE :  0.779348462354\n",
      "RMSE :  1.32284290328279\n",
      "MAPE :  3.69101821368\n"
     ]
    }
   ],
   "source": [
    "for df in cluster_df_list:\n",
    "    df = df[df['int_rate'].notnull()]\n",
    "    x_set = df.drop(['int_rate'], axis=1)\n",
    "    y_set = df['int_rate']\n",
    "    x_train, x_test, y_train, y_test = train_test_split(x_set, y_set, random_state=0)\n",
    "    x_train = StandardScaler().fit_transform(x_train)\n",
    "    x_test = StandardScaler().fit_transform(x_test)\n",
    "\n",
    "    rfr = RandomForestRegressor(n_jobs = 1)\n",
    "    rfr.fit(x_train, y_train)\n",
    "    rfr_predictions = rfr.predict(x_test)\n",
    "    print(\"MAE : \", mean_absolute_error(y_test, rfr_predictions))\n",
    "    print(\"RMSE : \", math.sqrt(mean_squared_error(y_test, rfr_predictions)))\n",
    "    print(\"MAPE : \", mean_absolute_percentage_error(y_test, rfr_predictions))\n",
    "#     print(\"Training score : \", rfr.score(x_train, y_train))\n",
    "#     print(\"Testing score : \", rfr.score(y_test, rfr_predictions))"
   ]
  }
 ],
 "metadata": {
  "kernelspec": {
   "display_name": "Python 3",
   "language": "python",
   "name": "python3"
  },
  "language_info": {
   "codemirror_mode": {
    "name": "ipython",
    "version": 3
   },
   "file_extension": ".py",
   "mimetype": "text/x-python",
   "name": "python",
   "nbconvert_exporter": "python",
   "pygments_lexer": "ipython3",
   "version": "3.6.3"
  }
 },
 "nbformat": 4,
 "nbformat_minor": 2
}
