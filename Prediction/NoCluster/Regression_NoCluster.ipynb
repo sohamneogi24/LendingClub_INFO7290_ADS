{
 "cells": [
  {
   "cell_type": "code",
   "execution_count": 11,
   "metadata": {
    "collapsed": true
   },
   "outputs": [],
   "source": [
    "import pandas as pd\n",
    "from sklearn.model_selection import train_test_split\n",
    "from sklearn.metrics import accuracy_score\n",
    "from sklearn.metrics import mean_absolute_error\n",
    "from sklearn.metrics import mean_squared_error\n",
    "from sklearn.linear_model import LinearRegression\n",
    "from sklearn.model_selection import cross_val_score\n",
    "from sklearn.ensemble import RandomForestRegressor\n",
    "from sklearn.neighbors import KNeighborsRegressor\n",
    "from sklearn.metrics import r2_score\n",
    "import numpy as np\n",
    "from sklearn.preprocessing import StandardScaler\n",
    "from sklearn.neural_network import MLPRegressor\n",
    "import math"
   ]
  },
  {
   "cell_type": "code",
   "execution_count": 12,
   "metadata": {
    "collapsed": true
   },
   "outputs": [],
   "source": [
    "def mean_absolute_percentage_error(y_true, y_pred): \n",
    "    y_true, y_pred = np.array(y_true), np.array(y_pred)\n",
    "    return np.mean(np.abs((y_true - y_pred) / y_true)) * 100"
   ]
  },
  {
   "cell_type": "code",
   "execution_count": 13,
   "metadata": {
    "collapsed": true
   },
   "outputs": [],
   "source": [
    "nocluster_df = pd.read_csv('clustering_dataset.csv',low_memory=False)"
   ]
  },
  {
   "cell_type": "markdown",
   "metadata": {},
   "source": [
    "## Linear Regression"
   ]
  },
  {
   "cell_type": "code",
   "execution_count": 14,
   "metadata": {
    "scrolled": true
   },
   "outputs": [
    {
     "name": "stdout",
     "output_type": "stream",
     "text": [
      "MAE :  0.618970479787\n",
      "RMSE :  0.8518170072798339\n",
      "MAPE :  4.78651760599\n",
      "Training score :  0.960154068593\n",
      "Testing score :  0.96008086952\n"
     ]
    }
   ],
   "source": [
    "df = nocluster_df[nocluster_df['int_rate'].notnull()]\n",
    "x_set = df.drop(['int_rate'], axis=1)\n",
    "y_set = df['int_rate']\n",
    "x_train, x_test, y_train, y_test = train_test_split(x_set, y_set, random_state=0)\n",
    "linearRegr = LinearRegression()\n",
    "linearRegr.fit(x_train, y_train)\n",
    "lr_predictions = linearRegr.predict(x_test)\n",
    "print(\"MAE : \", mean_absolute_error(y_test, lr_predictions))\n",
    "print(\"RMSE : \", math.sqrt(mean_squared_error(y_test, lr_predictions)))\n",
    "print(\"MAPE : \", mean_absolute_percentage_error(y_test, lr_predictions))\n",
    "print(\"Training score : \", linearRegr.score(x_train, y_train))\n",
    "print(\"Testing score : \", linearRegr.score(x_test, y_test))"
   ]
  },
  {
   "cell_type": "markdown",
   "metadata": {},
   "source": [
    "## Random Forest"
   ]
  },
  {
   "cell_type": "code",
   "execution_count": 15,
   "metadata": {},
   "outputs": [
    {
     "name": "stdout",
     "output_type": "stream",
     "text": [
      "MAE :  0.645193359153\n",
      "RMSE :  0.9014211504800198\n",
      "MAPE :  4.98595689646\n"
     ]
    }
   ],
   "source": [
    "df = nocluster_df[nocluster_df['int_rate'].notnull()]\n",
    "x_set = df.drop(['int_rate'], axis=1)\n",
    "y_set = df['int_rate']\n",
    "x_train, x_test, y_train, y_test = train_test_split(x_set, y_set, random_state=0)\n",
    "x_train = StandardScaler().fit_transform(x_train)\n",
    "x_test = StandardScaler().fit_transform(x_test)\n",
    "\n",
    "rfr = RandomForestRegressor(n_jobs = 2)\n",
    "rfr.fit(x_train, y_train)\n",
    "rfr_predictions = rfr.predict(x_test)\n",
    "print(\"MAE : \", mean_absolute_error(y_test, rfr_predictions))\n",
    "print(\"RMSE : \", math.sqrt(mean_squared_error(y_test, rfr_predictions)))\n",
    "print(\"MAPE : \", mean_absolute_percentage_error(y_test, rfr_predictions))"
   ]
  },
  {
   "cell_type": "markdown",
   "metadata": {},
   "source": [
    "## Neural Network"
   ]
  },
  {
   "cell_type": "code",
   "execution_count": null,
   "metadata": {},
   "outputs": [
    {
     "name": "stdout",
     "output_type": "stream",
     "text": [
      "MAE :  0.61396271141\n",
      "RMSE :  0.8463640001851587\n",
      "MAPE :  4.74632735112\n",
      "Training score :  0.960984000172\n",
      "Testing score :  0.960590327655\n"
     ]
    }
   ],
   "source": [
    "df = nocluster_df[nocluster_df['int_rate'].notnull()]\n",
    "x_set = df.drop(['int_rate'], axis=1)\n",
    "y_set = df['int_rate']\n",
    "x_train, x_test, y_train, y_test = train_test_split(x_set, y_set, random_state=0)\n",
    "x_train = StandardScaler().fit_transform(x_train)\n",
    "x_test = StandardScaler().fit_transform(x_test)\n",
    "\n",
    "mlp = MLPRegressor(solver='lbfgs', hidden_layer_sizes=50,\n",
    "                               max_iter=150, shuffle=True, random_state=1)\n",
    "mlp.fit(x_train, y_train)\n",
    "mlp_predictions = mlp.predict(x_test)\n",
    "print(\"MAE : \", mean_absolute_error(y_test, mlp_predictions))\n",
    "print(\"RMSE : \", math.sqrt(mean_squared_error(y_test, mlp_predictions)))\n",
    "print(\"MAPE : \", mean_absolute_percentage_error(y_test, mlp_predictions))\n",
    "print(\"Training score : \", mlp.score(x_train, y_train))\n",
    "print(\"Testing score : \", mlp.score(x_test, y_test))"
   ]
  },
  {
   "cell_type": "markdown",
   "metadata": {},
   "source": [
    "## KNN"
   ]
  },
  {
   "cell_type": "code",
   "execution_count": null,
   "metadata": {
    "collapsed": true
   },
   "outputs": [],
   "source": [
    "df = nocluster_df[nocluster_df['int_rate'].notnull()]\n",
    "x_set = df.drop(['int_rate'], axis=1)\n",
    "y_set = df['int_rate']\n",
    "x_train, x_test, y_train, y_test = train_test_split(x_set, y_set, random_state=0)\n",
    "x_train = StandardScaler().fit_transform(x_train)\n",
    "x_test = StandardScaler().fit_transform(x_test)\n",
    "    \n",
    "knn = KNeighborsRegressor(n_neighbors=5)\n",
    "knn.fit(x_train,y_train.values.ravel())\n",
    "knn_predictions = knn.predict(x_test)\n",
    "    \n",
    "print(\"MAE : \", mean_absolute_error(y_test, knn_predictions))\n",
    "print(\"RMSE : \", math.sqrt(mean_squared_error(y_test, knn_predictions)))\n",
    "print(\"MAPE : \", mean_absolute_percentage_error(y_test, knn_predictions))\n",
    "print(\"Training score : \", knn.score(x_train, y_train))\n",
    "print(\"Testing score : \", knn.score(x_test, y_test))"
   ]
  }
 ],
 "metadata": {
  "kernelspec": {
   "display_name": "Python 3",
   "language": "python",
   "name": "python3"
  },
  "language_info": {
   "codemirror_mode": {
    "name": "ipython",
    "version": 3
   },
   "file_extension": ".py",
   "mimetype": "text/x-python",
   "name": "python",
   "nbconvert_exporter": "python",
   "pygments_lexer": "ipython3",
   "version": "3.6.3"
  }
 },
 "nbformat": 4,
 "nbformat_minor": 2
}
