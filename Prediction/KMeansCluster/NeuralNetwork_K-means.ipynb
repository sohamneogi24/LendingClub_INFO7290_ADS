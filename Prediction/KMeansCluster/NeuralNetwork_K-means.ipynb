{
 "cells": [
  {
   "cell_type": "code",
   "execution_count": 1,
   "metadata": {
    "collapsed": true
   },
   "outputs": [],
   "source": [
    "import pandas as pd\n",
    "from sklearn.model_selection import train_test_split\n",
    "from sklearn.metrics import accuracy_score\n",
    "from sklearn.metrics import mean_absolute_error\n",
    "from sklearn.metrics import mean_squared_error\n",
    "from sklearn.linear_model import LinearRegression\n",
    "from sklearn.model_selection import cross_val_score\n",
    "from sklearn.ensemble import RandomForestRegressor\n",
    "from sklearn.neighbors import KNeighborsRegressor\n",
    "from sklearn.metrics import r2_score\n",
    "import numpy as np\n",
    "from sklearn.preprocessing import StandardScaler\n",
    "from sklearn.neural_network import MLPRegressor\n",
    "import math"
   ]
  },
  {
   "cell_type": "code",
   "execution_count": 2,
   "metadata": {
    "collapsed": true
   },
   "outputs": [],
   "source": [
    "cluster1_df = pd.read_csv('K-means_Cluster_0.csv', low_memory=False)\n",
    "\n",
    "cluster2_df = pd.read_csv('K-means_Cluster_1.csv', low_memory=False)\n",
    "\n",
    "cluster3_df = pd.read_csv('K-means_Cluster_2.csv', low_memory=False)\n",
    "\n",
    "cluster4_df = pd.read_csv('K-means_Cluster_3.csv', low_memory=False)\n",
    "\n",
    "cluster5_df = pd.read_csv('K-means_Cluster_4.csv', low_memory=False)\n",
    "\n",
    "cluster6_df = pd.read_csv('K-means_Cluster_5.csv', low_memory=False)\n",
    "\n",
    "cluster7_df = pd.read_csv('K-means_Cluster_6.csv', low_memory=False)\n",
    "\n",
    "cluster8_df = pd.read_csv('K-means_Cluster_7.csv', low_memory=False)"
   ]
  },
  {
   "cell_type": "code",
   "execution_count": 3,
   "metadata": {
    "collapsed": true
   },
   "outputs": [],
   "source": [
    "cluster_df_list=[cluster1_df, cluster2_df, cluster3_df, cluster4_df, cluster5_df, cluster6_df, cluster7_df, cluster8_df]"
   ]
  },
  {
   "cell_type": "code",
   "execution_count": 4,
   "metadata": {
    "collapsed": true
   },
   "outputs": [],
   "source": [
    "def mean_absolute_percentage_error(y_true, y_pred): \n",
    "    y_true, y_pred = np.array(y_true), np.array(y_pred)\n",
    "    return np.mean(np.abs((y_true - y_pred) / y_true)) * 100"
   ]
  },
  {
   "cell_type": "code",
   "execution_count": 5,
   "metadata": {},
   "outputs": [
    {
     "name": "stdout",
     "output_type": "stream",
     "text": [
      "MAE :  0.651381860199\n",
      "RMSE :  0.9047475396191538\n",
      "MAPE :  5.00099340348\n",
      "Training score :  0.960515080345\n",
      "Testing score :  0.955566784215\n",
      "MAE :  0.65898785598\n",
      "RMSE :  0.8806089660769132\n",
      "MAPE :  5.12109489956\n",
      "Training score :  0.961773110937\n",
      "Testing score :  0.957637126963\n",
      "MAE :  0.631944104145\n",
      "RMSE :  0.8977153367661859\n",
      "MAPE :  4.86196822646\n",
      "Training score :  0.95965463246\n",
      "Testing score :  0.955984357467\n",
      "MAE :  0.657737033148\n",
      "RMSE :  0.8884828558430072\n",
      "MAPE :  5.0919011909\n",
      "Training score :  0.961084594355\n",
      "Testing score :  0.957123227291\n",
      "MAE :  0.925511783685\n",
      "RMSE :  1.6736492782874381\n",
      "MAPE :  6.80566723946\n",
      "Training score :  0.992499504298\n",
      "Testing score :  0.841450191725\n",
      "MAE :  0.672175719018\n",
      "RMSE :  0.9230229569077563\n",
      "MAPE :  5.2144505591\n",
      "Training score :  0.961972474155\n",
      "Testing score :  0.953611590624\n",
      "MAE :  0.645646762564\n",
      "RMSE :  0.8762947054291539\n",
      "MAPE :  5.00441799996\n",
      "Training score :  0.961109265158\n",
      "Testing score :  0.958412626049\n",
      "MAE :  0.629365148534\n",
      "RMSE :  0.8759642684738252\n",
      "MAPE :  4.87969085232\n",
      "Training score :  0.959571341059\n",
      "Testing score :  0.957792521206\n"
     ]
    }
   ],
   "source": [
    "for df in cluster_df_list:\n",
    "    df = df[df['int_rate'].notnull()]\n",
    "    x_set = df.drop(['int_rate'], axis=1)\n",
    "    y_set = df['int_rate']\n",
    "    x_train, x_test, y_train, y_test = train_test_split(x_set, y_set, random_state=0)\n",
    "    x_train = StandardScaler().fit_transform(x_train)\n",
    "    x_test = StandardScaler().fit_transform(x_test)\n",
    "\n",
    "    mlp = MLPRegressor(solver='lbfgs', hidden_layer_sizes=50,\n",
    "                               max_iter=150, shuffle=True, random_state=1)\n",
    "    mlp.fit(x_train, y_train)\n",
    "    mlp_predictions = mlp.predict(x_test)\n",
    "    print(\"MAE : \", mean_absolute_error(y_test, mlp_predictions))\n",
    "    print(\"RMSE : \", math.sqrt(mean_squared_error(y_test, mlp_predictions)))\n",
    "    print(\"MAPE : \", mean_absolute_percentage_error(y_test, mlp_predictions))\n",
    "    print(\"Training score : \", mlp.score(x_train, y_train))\n",
    "    print(\"Testing score : \", mlp.score(x_test, y_test))"
   ]
  }
 ],
 "metadata": {
  "kernelspec": {
   "display_name": "Python 3",
   "language": "python",
   "name": "python3"
  },
  "language_info": {
   "codemirror_mode": {
    "name": "ipython",
    "version": 3
   },
   "file_extension": ".py",
   "mimetype": "text/x-python",
   "name": "python",
   "nbconvert_exporter": "python",
   "pygments_lexer": "ipython3",
   "version": "3.6.3"
  }
 },
 "nbformat": 4,
 "nbformat_minor": 2
}
