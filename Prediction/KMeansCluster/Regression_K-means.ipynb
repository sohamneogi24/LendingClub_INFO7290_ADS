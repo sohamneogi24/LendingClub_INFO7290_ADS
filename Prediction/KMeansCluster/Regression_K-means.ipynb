{
 "cells": [
  {
   "cell_type": "code",
   "execution_count": 19,
   "metadata": {
    "collapsed": true
   },
   "outputs": [],
   "source": [
    "import pandas as pd\n",
    "from sklearn.model_selection import train_test_split\n",
    "from sklearn.metrics import accuracy_score\n",
    "from sklearn.metrics import mean_absolute_error\n",
    "from sklearn.metrics import mean_squared_error\n",
    "from sklearn.linear_model import LinearRegression\n",
    "from sklearn.model_selection import cross_val_score\n",
    "from sklearn.ensemble import RandomForestRegressor\n",
    "from sklearn.metrics import r2_score\n",
    "import numpy as np\n",
    "import math"
   ]
  },
  {
   "cell_type": "code",
   "execution_count": 20,
   "metadata": {
    "collapsed": true
   },
   "outputs": [],
   "source": [
    "cluster1_df = pd.read_csv('K-means_Cluster_0.csv', low_memory=False)\n",
    "\n",
    "cluster2_df = pd.read_csv('K-means_Cluster_1.csv', low_memory=False)\n",
    "\n",
    "cluster3_df = pd.read_csv('K-means_Cluster_2.csv', low_memory=False)\n",
    "\n",
    "cluster4_df = pd.read_csv('K-means_Cluster_3.csv', low_memory=False)\n",
    "\n",
    "cluster5_df = pd.read_csv('K-means_Cluster_4.csv', low_memory=False)\n",
    "\n",
    "cluster6_df = pd.read_csv('K-means_Cluster_5.csv', low_memory=False)\n",
    "\n",
    "cluster7_df = pd.read_csv('K-means_Cluster_6.csv', low_memory=False)\n",
    "\n",
    "cluster8_df = pd.read_csv('K-means_Cluster_7.csv', low_memory=False)"
   ]
  },
  {
   "cell_type": "code",
   "execution_count": 21,
   "metadata": {
    "collapsed": true
   },
   "outputs": [],
   "source": [
    "cluster_df_list=[cluster1_df, cluster2_df, cluster3_df, cluster4_df, cluster5_df, cluster6_df, cluster7_df, cluster8_df]"
   ]
  },
  {
   "cell_type": "code",
   "execution_count": 22,
   "metadata": {
    "collapsed": true,
    "scrolled": false
   },
   "outputs": [],
   "source": [
    "#cluster_df_list"
   ]
  },
  {
   "cell_type": "code",
   "execution_count": 23,
   "metadata": {
    "collapsed": true
   },
   "outputs": [],
   "source": [
    "def mean_absolute_percentage_error(y_true, y_pred): \n",
    "    y_true, y_pred = np.array(y_true), np.array(y_pred)\n",
    "    return np.mean(np.abs((y_true - y_pred) / y_true)) * 100"
   ]
  },
  {
   "cell_type": "code",
   "execution_count": 25,
   "metadata": {},
   "outputs": [
    {
     "name": "stdout",
     "output_type": "stream",
     "text": [
      "RMSE :  0.8707196613525929\n",
      "MAE :  0.642308818004\n",
      "MAPE :  4.98220251118\n",
      "Training score :  0.959413540047\n",
      "Testing score :  0.958846229946\n",
      "RMSE :  0.8639310825436647\n",
      "MAE :  0.658492275298\n",
      "MAPE :  5.16563508213\n",
      "Training score :  0.96050569142\n",
      "Testing score :  0.959226555773\n",
      "RMSE :  0.8707379229220116\n",
      "MAE :  0.623512742763\n",
      "MAPE :  4.83170913815\n",
      "Training score :  0.958306037267\n",
      "Testing score :  0.958590052928\n",
      "RMSE :  0.8622898691533998\n",
      "MAE :  0.650713053594\n",
      "MAPE :  5.07475853482\n",
      "Training score :  0.959896978324\n",
      "Testing score :  0.959614026845\n",
      "RMSE :  0.8093545651383611\n",
      "MAE :  0.415770960963\n",
      "MAPE :  3.12496575259\n",
      "Training score :  0.978239939999\n",
      "Testing score :  0.962922157662\n",
      "RMSE :  0.8671487811654355\n",
      "MAE :  0.649802397111\n",
      "MAPE :  5.11122337315\n",
      "Training score :  0.960368102914\n",
      "Testing score :  0.959057749441\n",
      "RMSE :  0.8731905358634487\n",
      "MAE :  0.648955351851\n",
      "MAPE :  5.05341695135\n",
      "Training score :  0.959985926244\n",
      "Testing score :  0.958706740824\n",
      "RMSE :  0.8659571079254942\n",
      "MAE :  0.633737832737\n",
      "MAPE :  4.9223218699\n",
      "Training score :  0.958390331438\n",
      "Testing score :  0.958751383067\n"
     ]
    }
   ],
   "source": [
    "for df in cluster_df_list:\n",
    "    \n",
    "    x_set = df.drop(['int_rate'], axis=1)\n",
    "    y_set = df['int_rate']\n",
    "    x_train, x_test, y_train, y_test = train_test_split(x_set, y_set, random_state=0)\n",
    "    \n",
    "    linearRegr = LinearRegression()\n",
    "    linearRegr.fit(x_train, y_train)\n",
    "    linearRegr_predictions = linearRegr.predict(x_test)  \n",
    "    \n",
    "    print(\"RMSE : \",math.sqrt(mean_squared_error(y_test, linearRegr_predictions)))\n",
    "    print(\"MAE : \",mean_absolute_error(y_test, linearRegr_predictions))\n",
    "    print(\"MAPE : \",mean_absolute_percentage_error(y_test, linearRegr_predictions))\n",
    "    print(\"Training score : \",linearRegr.score(x_train, y_train))\n",
    "    print(\"Testing score : \",linearRegr.score(x_test, y_test))"
   ]
  }
 ],
 "metadata": {
  "kernelspec": {
   "display_name": "Python 3",
   "language": "python",
   "name": "python3"
  },
  "language_info": {
   "codemirror_mode": {
    "name": "ipython",
    "version": 3
   },
   "file_extension": ".py",
   "mimetype": "text/x-python",
   "name": "python",
   "nbconvert_exporter": "python",
   "pygments_lexer": "ipython3",
   "version": "3.6.3"
  }
 },
 "nbformat": 4,
 "nbformat_minor": 2
}
