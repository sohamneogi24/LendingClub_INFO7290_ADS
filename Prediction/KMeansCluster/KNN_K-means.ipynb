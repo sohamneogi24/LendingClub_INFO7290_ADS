{
 "cells": [
  {
   "cell_type": "code",
   "execution_count": 1,
   "metadata": {
    "collapsed": true
   },
   "outputs": [],
   "source": [
    "import pandas as pd\n",
    "from sklearn.model_selection import train_test_split\n",
    "from sklearn.metrics import accuracy_score\n",
    "from sklearn.metrics import mean_absolute_error\n",
    "from sklearn.metrics import mean_squared_error\n",
    "from sklearn.linear_model import LinearRegression\n",
    "from sklearn.model_selection import cross_val_score\n",
    "from sklearn.ensemble import RandomForestRegressor\n",
    "from sklearn.neighbors import KNeighborsRegressor\n",
    "from sklearn.metrics import r2_score\n",
    "import numpy as np\n",
    "from sklearn.preprocessing import StandardScaler\n",
    "from sklearn.neural_network import MLPRegressor\n",
    "import math"
   ]
  },
  {
   "cell_type": "code",
   "execution_count": 2,
   "metadata": {
    "collapsed": true
   },
   "outputs": [],
   "source": [
    "cluster1_df = pd.read_csv('K-means_Cluster_0.csv', low_memory=False)\n",
    "\n",
    "cluster2_df = pd.read_csv('K-means_Cluster_1.csv', low_memory=False)\n",
    "\n",
    "cluster3_df = pd.read_csv('K-means_Cluster_2.csv', low_memory=False)\n",
    "\n",
    "cluster4_df = pd.read_csv('K-means_Cluster_3.csv', low_memory=False)\n",
    "\n",
    "cluster5_df = pd.read_csv('K-means_Cluster_4.csv', low_memory=False)\n",
    "\n",
    "cluster6_df = pd.read_csv('K-means_Cluster_5.csv', low_memory=False)\n",
    "\n",
    "cluster7_df = pd.read_csv('K-means_Cluster_6.csv', low_memory=False)\n",
    "\n",
    "cluster8_df = pd.read_csv('K-means_Cluster_7.csv', low_memory=False)"
   ]
  },
  {
   "cell_type": "code",
   "execution_count": 3,
   "metadata": {
    "collapsed": true
   },
   "outputs": [],
   "source": [
    "cluster_df_list=[cluster1_df, cluster2_df, cluster3_df, cluster4_df, cluster5_df, cluster6_df, cluster7_df, cluster8_df]"
   ]
  },
  {
   "cell_type": "code",
   "execution_count": null,
   "metadata": {
    "collapsed": true
   },
   "outputs": [],
   "source": [
    "def mean_absolute_percentage_error(y_true, y_pred): \n",
    "    y_true, y_pred = np.array(y_true), np.array(y_pred)\n",
    "    return np.mean(np.abs((y_true - y_pred) / y_true)) * 100"
   ]
  },
  {
   "cell_type": "code",
   "execution_count": null,
   "metadata": {},
   "outputs": [
    {
     "name": "stdout",
     "output_type": "stream",
     "text": [
      "MAE :  0.653272944664\n",
      "RMSE :  0.9084679258553837\n",
      "MAPE :  5.04786608857\n",
      "Training score :  0.964412668363\n",
      "Testing score :  0.9552006078\n",
      "MAE :  0.670811590038\n",
      "RMSE :  0.9128799635409572\n",
      "MAPE :  5.23675298758\n",
      "Training score :  0.964765967525\n",
      "Testing score :  0.954475356852\n"
     ]
    }
   ],
   "source": [
    "for df in cluster_df_list:\n",
    "    df = df[df['int_rate'].notnull()]\n",
    "    x_set = df.drop(['int_rate'], axis=1)\n",
    "    y_set = df['int_rate']\n",
    "    x_train, x_test, y_train, y_test = train_test_split(x_set, y_set, random_state=0)\n",
    "    x_train = StandardScaler().fit_transform(x_train)\n",
    "    x_test = StandardScaler().fit_transform(x_test)\n",
    "    \n",
    "    knn = KNeighborsRegressor(n_neighbors=9)\n",
    "    knn.fit(x_train,y_train.values.ravel())\n",
    "    knn_predictions = knn.predict(x_test)\n",
    "    \n",
    "    print(\"MAE : \", mean_absolute_error(y_test, knn_predictions))\n",
    "    print(\"RMSE : \", math.sqrt(mean_squared_error(y_test, knn_predictions)))\n",
    "    print(\"MAPE : \",mean_absolute_percentage_error(y_test, knn_predictions))\n",
    "    print(\"Training score : \", knn.score(x_train, y_train))\n",
    "    print(\"Testing score : \", knn.score(x_test, y_test))"
   ]
  }
 ],
 "metadata": {
  "kernelspec": {
   "display_name": "Python 3",
   "language": "python",
   "name": "python3"
  },
  "language_info": {
   "codemirror_mode": {
    "name": "ipython",
    "version": 3
   },
   "file_extension": ".py",
   "mimetype": "text/x-python",
   "name": "python",
   "nbconvert_exporter": "python",
   "pygments_lexer": "ipython3",
   "version": "3.6.3"
  }
 },
 "nbformat": 4,
 "nbformat_minor": 2
}
