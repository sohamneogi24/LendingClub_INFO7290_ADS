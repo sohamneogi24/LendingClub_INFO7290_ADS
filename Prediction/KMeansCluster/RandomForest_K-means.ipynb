{
 "cells": [
  {
   "cell_type": "code",
   "execution_count": 1,
   "metadata": {
    "collapsed": true
   },
   "outputs": [],
   "source": [
    "import pandas as pd\n",
    "from sklearn.model_selection import train_test_split\n",
    "from sklearn.metrics import accuracy_score\n",
    "from sklearn.metrics import mean_absolute_error\n",
    "from sklearn.metrics import mean_squared_error\n",
    "from sklearn.linear_model import LinearRegression\n",
    "from sklearn.model_selection import cross_val_score\n",
    "from sklearn.ensemble import RandomForestRegressor\n",
    "from sklearn.neighbors import KNeighborsRegressor\n",
    "from sklearn.metrics import r2_score\n",
    "import numpy as np\n",
    "from sklearn.preprocessing import StandardScaler\n",
    "from sklearn.neural_network import MLPRegressor\n",
    "import math"
   ]
  },
  {
   "cell_type": "code",
   "execution_count": 2,
   "metadata": {
    "collapsed": true
   },
   "outputs": [],
   "source": [
    "cluster1_df = pd.read_csv('K-means_Cluster_0.csv', low_memory=False)\n",
    "\n",
    "cluster2_df = pd.read_csv('K-means_Cluster_1.csv', low_memory=False)\n",
    "\n",
    "cluster3_df = pd.read_csv('K-means_Cluster_2.csv', low_memory=False)\n",
    "\n",
    "cluster4_df = pd.read_csv('K-means_Cluster_3.csv', low_memory=False)\n",
    "\n",
    "cluster5_df = pd.read_csv('K-means_Cluster_4.csv', low_memory=False)\n",
    "\n",
    "cluster6_df = pd.read_csv('K-means_Cluster_5.csv', low_memory=False)\n",
    "\n",
    "cluster7_df = pd.read_csv('K-means_Cluster_6.csv', low_memory=False)\n",
    "\n",
    "cluster8_df = pd.read_csv('K-means_Cluster_7.csv', low_memory=False)"
   ]
  },
  {
   "cell_type": "code",
   "execution_count": 3,
   "metadata": {
    "collapsed": true
   },
   "outputs": [],
   "source": [
    "cluster_df_list=[cluster1_df, cluster2_df, cluster3_df, cluster4_df, cluster5_df, cluster6_df, cluster7_df, cluster8_df]"
   ]
  },
  {
   "cell_type": "code",
   "execution_count": 4,
   "metadata": {
    "collapsed": true
   },
   "outputs": [],
   "source": [
    "def mean_absolute_percentage_error(y_true, y_pred): \n",
    "    y_true, y_pred = np.array(y_true), np.array(y_pred)\n",
    "    return np.mean(np.abs((y_true - y_pred) / y_true)) * 100"
   ]
  },
  {
   "cell_type": "code",
   "execution_count": 5,
   "metadata": {},
   "outputs": [
    {
     "name": "stdout",
     "output_type": "stream",
     "text": [
      "MAE :  0.669581271248\n",
      "RMSE :  0.9294441390516964\n",
      "MAPE :  5.17225987649\n",
      "Training score :  0.991821478739\n",
      "Testing score :  0.95310791856\n",
      "MAE :  0.681215909962\n",
      "RMSE :  0.9247042104607666\n",
      "MAPE :  5.31981237428\n",
      "Training score :  0.991948464671\n",
      "Testing score :  0.953288386333\n",
      "MAE :  0.654598906642\n",
      "RMSE :  0.9272441349928484\n",
      "MAPE :  5.04989087715\n",
      "Training score :  0.991715931038\n",
      "Testing score :  0.953041096623\n",
      "MAE :  0.678098950916\n",
      "RMSE :  0.9243512628563957\n",
      "MAPE :  5.27505103576\n",
      "Training score :  0.991835517277\n",
      "Testing score :  0.953591443245\n",
      "MAE :  0.492603669725\n",
      "RMSE :  1.032212913638736\n",
      "MAPE :  3.6437255029\n",
      "Training score :  0.98788169916\n",
      "Testing score :  0.939691935842\n",
      "MAE :  0.676183824409\n",
      "RMSE :  0.9356151958588577\n",
      "MAPE :  5.29477060909\n",
      "Training score :  0.991901589358\n",
      "Testing score :  0.952337259531\n",
      "MAE :  0.671580177158\n",
      "RMSE :  0.9281162814798404\n",
      "MAPE :  5.20885270403\n",
      "Training score :  0.991862366218\n",
      "Testing score :  0.953348468574\n",
      "MAE :  0.675543261897\n",
      "RMSE :  0.9387847910987605\n",
      "MAPE :  5.23312179543\n",
      "Training score :  0.991655785239\n",
      "Testing score :  0.951521550765\n"
     ]
    }
   ],
   "source": [
    "for df in cluster_df_list:\n",
    "    df = df[df['int_rate'].notnull()]\n",
    "    x_set = df.drop(['int_rate'], axis=1)\n",
    "    y_set = df['int_rate']\n",
    "    x_train, x_test, y_train, y_test = train_test_split(x_set, y_set, random_state=0)\n",
    "    x_train = StandardScaler().fit_transform(x_train)\n",
    "    x_test = StandardScaler().fit_transform(x_test)\n",
    "   \n",
    "    rfr = RandomForestRegressor(n_jobs=2)\n",
    "    rfr.fit(x_train, y_train)\n",
    "    rfr_predictions = rfr.predict(x_test)\n",
    "    \n",
    "    print(\"MAE : \", mean_absolute_error(y_test, rfr_predictions))\n",
    "    print(\"RMSE : \" ,math.sqrt(mean_squared_error(y_test, rfr_predictions)))\n",
    "    print(\"MAPE : \", mean_absolute_percentage_error(y_test, rfr_predictions))\n",
    "    print(\"Training score : \", rfr.score(x_train, y_train))\n",
    "    print(\"Testing score : \", rfr.score(x_test, y_test))"
   ]
  }
 ],
 "metadata": {
  "kernelspec": {
   "display_name": "Python 3",
   "language": "python",
   "name": "python3"
  },
  "language_info": {
   "codemirror_mode": {
    "name": "ipython",
    "version": 3
   },
   "file_extension": ".py",
   "mimetype": "text/x-python",
   "name": "python",
   "nbconvert_exporter": "python",
   "pygments_lexer": "ipython3",
   "version": "3.6.3"
  }
 },
 "nbformat": 4,
 "nbformat_minor": 2
}
