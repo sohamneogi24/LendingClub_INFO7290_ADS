{
 "cells": [
  {
   "cell_type": "code",
   "execution_count": 5,
   "metadata": {
    "collapsed": false
   },
   "outputs": [],
   "source": [
    "import pandas as pd\n",
    "from sklearn.metrics import accuracy_score\n",
    "from sklearn.metrics import mean_absolute_error\n",
    "from sklearn.metrics import mean_squared_error\n",
    "from sklearn.linear_model import LinearRegression\n",
    "from sklearn.cross_validation import train_test_split\n",
    "from sklearn.ensemble import RandomForestRegressor\n",
    "from sklearn.neighbors import KNeighborsRegressor\n",
    "from sklearn.metrics import r2_score\n",
    "import numpy as np\n",
    "from sklearn.preprocessing import StandardScaler\n",
    "#from sklearn.neural_network import MLPRegressor\n",
    "import math"
   ]
  },
  {
   "cell_type": "code",
   "execution_count": 6,
   "metadata": {
    "collapsed": true
   },
   "outputs": [],
   "source": [
    "cluster1_df = pd.read_csv('../../Data/KMeansCluster/K-means_Cluster_0.csv', low_memory=False)\n",
    "\n",
    "cluster2_df = pd.read_csv('../../Data/KMeansCluster/K-means_Cluster_1.csv', low_memory=False)\n",
    "\n",
    "cluster3_df = pd.read_csv('../../Data/KMeansCluster/K-means_Cluster_2.csv', low_memory=False)\n",
    "\n",
    "cluster4_df = pd.read_csv('../../Data/KMeansCluster/K-means_Cluster_3.csv', low_memory=False)\n",
    "\n",
    "cluster5_df = pd.read_csv('../../Data/KMeansCluster/K-means_Cluster_4.csv', low_memory=False)\n",
    "\n",
    "cluster6_df = pd.read_csv('../../Data/KMeansCluster/K-means_Cluster_5.csv', low_memory=False)\n",
    "\n",
    "cluster7_df = pd.read_csv('../../Data/KMeansCluster/K-means_Cluster_6.csv', low_memory=False)\n",
    "\n",
    "cluster8_df = pd.read_csv('../../Data/KMeansCluster/K-means_Cluster_7.csv', low_memory=False)"
   ]
  },
  {
   "cell_type": "code",
   "execution_count": 7,
   "metadata": {
    "collapsed": true
   },
   "outputs": [],
   "source": [
    "cluster_df_list=[cluster1_df, cluster2_df, cluster3_df, cluster4_df, cluster5_df, cluster6_df, cluster7_df, cluster8_df]"
   ]
  },
  {
   "cell_type": "code",
   "execution_count": 8,
   "metadata": {
    "collapsed": true
   },
   "outputs": [],
   "source": [
    "def mean_absolute_percentage_error(y_true, y_pred): \n",
    "    y_true, y_pred = np.array(y_true), np.array(y_pred)\n",
    "    return np.mean(np.abs((y_true - y_pred) / y_true)) * 100"
   ]
  },
  {
   "cell_type": "code",
   "execution_count": 9,
   "metadata": {
    "collapsed": true
   },
   "outputs": [],
   "source": [
    "import os"
   ]
  },
  {
   "cell_type": "code",
   "execution_count": 10,
   "metadata": {
    "collapsed": true
   },
   "outputs": [],
   "source": [
    "os.mkdir('kmeans')\n"
   ]
  },
  {
   "cell_type": "code",
   "execution_count": null,
   "metadata": {
    "collapsed": false
   },
   "outputs": [],
   "source": [
    "i =0\n",
    "\n",
    "from sklearn.externals import joblib\n",
    "for df in cluster_df_list:\n",
    "    df = df[df['int_rate'].notnull()]\n",
    "    x_set = df.drop(['int_rate'], axis=1)\n",
    "    y_set = df['int_rate']\n",
    "    x_train, x_test, y_train, y_test = train_test_split(x_set, y_set, random_state=0)\n",
    "    x_train = StandardScaler().fit_transform(x_train)\n",
    "    x_test = StandardScaler().fit_transform(x_test)\n",
    "   \n",
    "    rfr = RandomForestRegressor(n_jobs=2)\n",
    "    rfr.fit(x_train, y_train)\n",
    "    rfr_predictions = rfr.predict(x_test)\n",
    "\n",
    "    folder_name = 'cluster-' + str(i)\n",
    "    folder_name = './kmeans/'+ folder_name\n",
    "    os.mkdir(folder_name)\n",
    "    folder_name = folder_name + '/'\n",
    "    file_name = 'regression.pkl'\n",
    "    file_name = folder_name + file_name\n",
    "    joblib.dump(rfr, file_name)\n",
    "    i = i + 1\n",
    "    print(\"MAE : \", mean_absolute_error(y_test, rfr_predictions))\n",
    "    print(\"RMSE : \" ,math.sqrt(mean_squared_error(y_test, rfr_predictions)))\n",
    "    print(\"MAPE : \", mean_absolute_percentage_error(y_test, rfr_predictions))\n",
    "    print(\"Training score : \", rfr.score(x_train, y_train))\n",
    "    print(\"Testing score : \", rfr.score(x_test, y_test))"
   ]
  }
 ],
 "metadata": {
  "anaconda-cloud": {},
  "kernelspec": {
   "display_name": "Python [default]",
   "language": "python",
   "name": "python3"
  },
  "language_info": {
   "codemirror_mode": {
    "name": "ipython",
    "version": 3
   },
   "file_extension": ".py",
   "mimetype": "text/x-python",
   "name": "python",
   "nbconvert_exporter": "python",
   "pygments_lexer": "ipython3",
   "version": "3.4.5"
  }
 },
 "nbformat": 4,
 "nbformat_minor": 2
}
