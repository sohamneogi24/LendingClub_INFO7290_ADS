{
 "cells": [
  {
   "cell_type": "code",
   "execution_count": 1,
   "metadata": {
    "collapsed": true
   },
   "outputs": [],
   "source": [
    "# work on combined dataset\n",
    "\n",
    "import numpy as np\n",
    "import matplotlib.pyplot as plt\n",
    "import numpy as np\n",
    "import seaborn as sns\n",
    "import pandas as pd"
   ]
  },
  {
   "cell_type": "code",
   "execution_count": 3,
   "metadata": {},
   "outputs": [
    {
     "name": "stderr",
     "output_type": "stream",
     "text": [
      "C:\\ProgramData\\Anaconda3\\lib\\site-packages\\IPython\\core\\interactiveshell.py:2698: DtypeWarning: Columns (0,19,49,59,118,129,130,131,134,135,136,139,145,146,147) have mixed types. Specify dtype option on import or set low_memory=False.\n",
      "  interactivity=interactivity, compiler=compiler, result=result)\n"
     ]
    }
   ],
   "source": [
    "#read the files\n",
    "\n",
    "accepted_df = pd.read_csv('../Data/combined.csv')\n",
    "rejected_df = pd.read_csv('../Data/outputRejectStats.csv')"
   ]
  },
  {
   "cell_type": "code",
   "execution_count": 4,
   "metadata": {},
   "outputs": [
    {
     "data": {
      "text/plain": [
       "(1646778, 151)"
      ]
     },
     "execution_count": 4,
     "metadata": {},
     "output_type": "execute_result"
    }
   ],
   "source": [
    "#removing the policy code where NaNs\n",
    "\n",
    "accepted_df = accepted_df[accepted_df['policy_code'].notnull()]\n",
    "accepted_df.shape"
   ]
  },
  {
   "cell_type": "code",
   "execution_count": 46,
   "metadata": {},
   "outputs": [
    {
     "data": {
      "text/plain": [
       "(1497304, 151)"
      ]
     },
     "execution_count": 46,
     "metadata": {},
     "output_type": "execute_result"
    }
   ],
   "source": [
    "#accepting fico range > 660\n",
    "accepted_df = accepted_df[accepted_df['fico_range_low'] > 660]\n",
    "accepted_df.shape"
   ]
  },
  {
   "cell_type": "code",
   "execution_count": 47,
   "metadata": {},
   "outputs": [
    {
     "data": {
      "text/plain": [
       "(1497304, 151)"
      ]
     },
     "execution_count": 47,
     "metadata": {},
     "output_type": "execute_result"
    }
   ],
   "source": [
    "#removing the Nans form fico range\n",
    "accepted_df = accepted_df[accepted_df['fico_range_low'].notnull()]\n",
    "accepted_df = accepted_df[accepted_df['fico_range_high'].notnull()]\n",
    "accepted_df.shape"
   ]
  },
  {
   "cell_type": "code",
   "execution_count": 48,
   "metadata": {
    "collapsed": true
   },
   "outputs": [],
   "source": [
    "accepted_df['risk_score'] = (accepted_df['fico_range_low'] + accepted_df['fico_range_high']) / 2"
   ]
  },
  {
   "cell_type": "code",
   "execution_count": 49,
   "metadata": {},
   "outputs": [
    {
     "data": {
      "text/plain": [
       "array([' 36 months', ' 60 months'], dtype=object)"
      ]
     },
     "execution_count": 49,
     "metadata": {},
     "output_type": "execute_result"
    }
   ],
   "source": [
    "accepted_df['term'].unique()"
   ]
  },
  {
   "cell_type": "code",
   "execution_count": 50,
   "metadata": {
    "collapsed": true
   },
   "outputs": [],
   "source": [
    "accepted_df['term'] = accepted_df['term'].map({' 36 months': 36, ' 60 months' : 60})"
   ]
  },
  {
   "cell_type": "code",
   "execution_count": 51,
   "metadata": {
    "collapsed": true
   },
   "outputs": [],
   "source": [
    "accepted_df['int_rate'] = accepted_df['int_rate'].map(lambda x : x.replace('%', ''))\n",
    "accepted_df['int_rate'] = accepted_df['int_rate'].map(float)"
   ]
  },
  {
   "cell_type": "code",
   "execution_count": 52,
   "metadata": {},
   "outputs": [
    {
     "data": {
      "text/plain": [
       "(1497304, 152)"
      ]
     },
     "execution_count": 52,
     "metadata": {},
     "output_type": "execute_result"
    }
   ],
   "source": [
    "accepted_df.shape"
   ]
  },
  {
   "cell_type": "code",
   "execution_count": 53,
   "metadata": {},
   "outputs": [
    {
     "data": {
      "text/plain": [
       "(1497304, 111)"
      ]
     },
     "execution_count": 53,
     "metadata": {},
     "output_type": "execute_result"
    }
   ],
   "source": [
    "#threshold of 70%\n",
    "\n",
    "accepted_df = accepted_df.dropna(axis=1, thresh=0.30 * accepted_df.shape[0])\n",
    "accepted_df = accepted_df.dropna(axis=0, thresh = 0.30 * (accepted_df.shape[1]))\n",
    "accepted_df.shape"
   ]
  },
  {
   "cell_type": "code",
   "execution_count": 54,
   "metadata": {},
   "outputs": [
    {
     "data": {
      "text/plain": [
       "{dtype('int64'): Index(['term'], dtype='object'),\n",
       " dtype('float64'): Index(['loan_amnt', 'funded_amnt', 'funded_amnt_inv', 'int_rate',\n",
       "        'installment', 'annual_inc', 'dti', 'delinq_2yrs', 'fico_range_low',\n",
       "        'fico_range_high', 'inq_last_6mths', 'mths_since_last_delinq',\n",
       "        'open_acc', 'pub_rec', 'revol_bal', 'total_acc', 'out_prncp',\n",
       "        'out_prncp_inv', 'total_pymnt', 'total_pymnt_inv', 'total_rec_prncp',\n",
       "        'total_rec_int', 'total_rec_late_fee', 'recoveries',\n",
       "        'collection_recovery_fee', 'last_pymnt_amnt', 'last_fico_range_high',\n",
       "        'last_fico_range_low', 'collections_12_mths_ex_med', 'policy_code',\n",
       "        'acc_now_delinq', 'tot_coll_amt', 'tot_cur_bal', 'open_acc_6m',\n",
       "        'open_act_il', 'open_il_12m', 'open_il_24m', 'mths_since_rcnt_il',\n",
       "        'total_bal_il', 'il_util', 'open_rv_12m', 'open_rv_24m', 'max_bal_bc',\n",
       "        'all_util', 'total_rev_hi_lim', 'inq_fi', 'total_cu_tl', 'inq_last_12m',\n",
       "        'acc_open_past_24mths', 'avg_cur_bal', 'bc_open_to_buy', 'bc_util',\n",
       "        'chargeoff_within_12_mths', 'delinq_amnt', 'mo_sin_old_il_acct',\n",
       "        'mo_sin_old_rev_tl_op', 'mo_sin_rcnt_rev_tl_op', 'mo_sin_rcnt_tl',\n",
       "        'mort_acc', 'mths_since_recent_bc', 'mths_since_recent_inq',\n",
       "        'mths_since_recent_revol_delinq', 'num_accts_ever_120_pd',\n",
       "        'num_actv_bc_tl', 'num_actv_rev_tl', 'num_bc_sats', 'num_bc_tl',\n",
       "        'num_il_tl', 'num_op_rev_tl', 'num_rev_accts', 'num_rev_tl_bal_gt_0',\n",
       "        'num_sats', 'num_tl_120dpd_2m', 'num_tl_30dpd', 'num_tl_90g_dpd_24m',\n",
       "        'num_tl_op_past_12m', 'pct_tl_nvr_dlq', 'percent_bc_gt_75',\n",
       "        'pub_rec_bankruptcies', 'tax_liens', 'tot_hi_cred_lim',\n",
       "        'total_bal_ex_mort', 'total_bc_limit', 'total_il_high_credit_limit',\n",
       "        'risk_score'],\n",
       "       dtype='object'),\n",
       " dtype('O'): Index(['id', 'grade', 'sub_grade', 'emp_title', 'emp_length', 'home_ownership',\n",
       "        'verification_status', 'issue_d', 'loan_status', 'pymnt_plan', 'url',\n",
       "        'purpose', 'title', 'zip_code', 'addr_state', 'earliest_cr_line',\n",
       "        'revol_util', 'initial_list_status', 'last_pymnt_d', 'next_pymnt_d',\n",
       "        'last_credit_pull_d', 'application_type', 'hardship_flag',\n",
       "        'disbursement_method', 'debt_settlement_flag'],\n",
       "       dtype='object')}"
      ]
     },
     "execution_count": 54,
     "metadata": {},
     "output_type": "execute_result"
    }
   ],
   "source": [
    "accepted_df.columns.to_series().groupby(accepted_df.dtypes).groups"
   ]
  },
  {
   "cell_type": "code",
   "execution_count": 55,
   "metadata": {},
   "outputs": [
    {
     "data": {
      "text/plain": [
       "(1497304, 111)"
      ]
     },
     "execution_count": 55,
     "metadata": {},
     "output_type": "execute_result"
    }
   ],
   "source": [
    "accepted_df.shape"
   ]
  },
  {
   "cell_type": "code",
   "execution_count": 56,
   "metadata": {},
   "outputs": [
    {
     "data": {
      "text/plain": [
       "(1496973, 111)"
      ]
     },
     "execution_count": 56,
     "metadata": {},
     "output_type": "execute_result"
    }
   ],
   "source": [
    "accepted_df = accepted_df[accepted_df['dti'].notnull() & accepted_df['loan_amnt'].notnull()]\n",
    "accepted_df.shape"
   ]
  },
  {
   "cell_type": "code",
   "execution_count": 57,
   "metadata": {},
   "outputs": [
    {
     "data": {
      "text/plain": [
       "59950"
      ]
     },
     "execution_count": 57,
     "metadata": {},
     "output_type": "execute_result"
    }
   ],
   "source": [
    "len(accepted_df['title'].unique())"
   ]
  },
  {
   "cell_type": "code",
   "execution_count": 58,
   "metadata": {},
   "outputs": [
    {
     "data": {
      "text/plain": [
       "73930"
      ]
     },
     "execution_count": 58,
     "metadata": {},
     "output_type": "execute_result"
    }
   ],
   "source": [
    "len(rejected_df['Loan Title'].unique())"
   ]
  },
  {
   "cell_type": "code",
   "execution_count": 59,
   "metadata": {},
   "outputs": [
    {
     "data": {
      "text/plain": [
       "(16131472, 9)"
      ]
     },
     "execution_count": 59,
     "metadata": {},
     "output_type": "execute_result"
    }
   ],
   "source": [
    "rejected_df.shape"
   ]
  },
  {
   "cell_type": "code",
   "execution_count": 60,
   "metadata": {
    "collapsed": true
   },
   "outputs": [],
   "source": [
    "common_title = pd.Series(list(set(accepted_df['purpose']) & set(rejected_df['Loan Title'])))"
   ]
  },
  {
   "cell_type": "code",
   "execution_count": 61,
   "metadata": {
    "collapsed": true
   },
   "outputs": [],
   "source": [
    "rejected_df = rejected_df.loc[rejected_df['Loan Title'].isin(common_title)]"
   ]
  },
  {
   "cell_type": "code",
   "execution_count": 62,
   "metadata": {
    "collapsed": true
   },
   "outputs": [],
   "source": [
    "rejected_df = rejected_df[rejected_df['Policy Code'].notnull()]"
   ]
  },
  {
   "cell_type": "code",
   "execution_count": 63,
   "metadata": {},
   "outputs": [
    {
     "data": {
      "text/plain": [
       "<matplotlib.axes._subplots.AxesSubplot at 0x1a3edc0320>"
      ]
     },
     "execution_count": 63,
     "metadata": {},
     "output_type": "execute_result"
    },
    {
     "data": {
      "image/png": "[encoded data removed]",
      "text/plain": [
       "<matplotlib.figure.Figure at 0x1a3f7aecc0>"
      ]
     },
     "metadata": {},
     "output_type": "display_data"
    }
   ],
   "source": [
    "%matplotlib inline\n",
    "accepted_df = accepted_df[accepted_df['emp_length'] != 'n/a']\n",
    "accepted_df.groupby(by='emp_length').sum().reset_index().plot(kind='bar', x='emp_length', y='fico_range_high')"
   ]
  },
  {
   "cell_type": "code",
   "execution_count": 64,
   "metadata": {
    "collapsed": true
   },
   "outputs": [],
   "source": [
    "accepted_df['emp_length'] = accepted_df['emp_length'].map({'10+ years' : 10, '< 1 year' : 0, '1 year' : 1, '3 years' : 3, '8 years' : 8, '4 years' : 4,\n",
    "       '5 years' : 5, '6 years' : 6, '2 years' : 2, '9 years' : 9, '7 years' : 7})"
   ]
  },
  {
   "cell_type": "code",
   "execution_count": 65,
   "metadata": {
    "collapsed": true
   },
   "outputs": [],
   "source": [
    "accepted_df['emp_length'] = accepted_df['emp_length'].map(int)"
   ]
  },
  {
   "cell_type": "code",
   "execution_count": 66,
   "metadata": {},
   "outputs": [
    {
     "data": {
      "text/plain": [
       "Index(['Amount Requested', 'Application Date', 'Loan Title', 'Risk_Score',\n",
       "       'Debt-To-Income Ratio', 'Zip Code', 'State', 'Employment Length',\n",
       "       'Policy Code'],\n",
       "      dtype='object')"
      ]
     },
     "execution_count": 66,
     "metadata": {},
     "output_type": "execute_result"
    }
   ],
   "source": [
    "rejected_df.columns"
   ]
  },
  {
   "cell_type": "code",
   "execution_count": 67,
   "metadata": {
    "collapsed": true
   },
   "outputs": [],
   "source": [
    "rejected_df = rejected_df.rename(columns = {'Amount Requested' : 'loan_amnt', 'Loan Title' : 'purpose', 'Risk_Score' : 'risk_score', 'Debt-To-Income Ratio' : 'dti', 'Zip Code' : 'zip_code', 'State' : 'addr_state', 'Employment Length' : 'emp_length', 'Policy Code' : 'policy_code'})"
   ]
  },
  {
   "cell_type": "code",
   "execution_count": 68,
   "metadata": {},
   "outputs": [
    {
     "name": "stderr",
     "output_type": "stream",
     "text": [
      "/Users/deveshkandpal/anaconda/lib/python3.6/site-packages/ipykernel_launcher.py:2: SettingWithCopyWarning: \n",
      "A value is trying to be set on a copy of a slice from a DataFrame.\n",
      "Try using .loc[row_indexer,col_indexer] = value instead\n",
      "\n",
      "See the caveats in the documentation: http://pandas.pydata.org/pandas-docs/stable/indexing.html#indexing-view-versus-copy\n",
      "  \n"
     ]
    }
   ],
   "source": [
    "rejected_subset_df = rejected_df[['loan_amnt', 'purpose', 'risk_score', 'dti', 'addr_state', 'emp_length']]\n",
    "rejected_subset_df['status'] = 0"
   ]
  },
  {
   "cell_type": "code",
   "execution_count": 69,
   "metadata": {},
   "outputs": [
    {
     "name": "stderr",
     "output_type": "stream",
     "text": [
      "/Users/deveshkandpal/anaconda/lib/python3.6/site-packages/ipykernel_launcher.py:2: SettingWithCopyWarning: \n",
      "A value is trying to be set on a copy of a slice from a DataFrame.\n",
      "Try using .loc[row_indexer,col_indexer] = value instead\n",
      "\n",
      "See the caveats in the documentation: http://pandas.pydata.org/pandas-docs/stable/indexing.html#indexing-view-versus-copy\n",
      "  \n"
     ]
    }
   ],
   "source": [
    "accepted_subset_df = accepted_df[['loan_amnt', 'purpose', 'risk_score', 'dti', 'addr_state', 'emp_length']]\n",
    "accepted_subset_df['status'] = 1"
   ]
  },
  {
   "cell_type": "code",
   "execution_count": 70,
   "metadata": {
    "collapsed": true
   },
   "outputs": [],
   "source": [
    "rejected_subset_df = rejected_subset_df.dropna(axis=1, thresh=0.30 * rejected_subset_df.shape[0])\n",
    "rejected_subset_df = rejected_subset_df.dropna(axis=0, thresh = 0.30 * (rejected_subset_df.shape[1]))\n",
    "rejected_subset_df['status'] = 0\n",
    "rejected_subset_cleaned_rs_df = rejected_subset_df[rejected_subset_df['risk_score'].notnull()]"
   ]
  },
  {
   "cell_type": "code",
   "execution_count": 71,
   "metadata": {
    "collapsed": true
   },
   "outputs": [],
   "source": [
    "accepted_subset_df = accepted_subset_df.dropna(axis=1, thresh=0.30 * accepted_subset_df.shape[0])\n",
    "accepted_subset_df = accepted_subset_df.dropna(axis=0, thresh = 0.30 * (accepted_subset_df.shape[1]))\n",
    "accepted_subset_df['status'] = 1\n",
    "accepted_subset_cleaned_rs_df = accepted_subset_df[accepted_subset_df['risk_score'].notnull()]"
   ]
  },
  {
   "cell_type": "code",
   "execution_count": 72,
   "metadata": {},
   "outputs": [
    {
     "data": {
      "text/plain": [
       "Index(['loan_amnt', 'purpose', 'risk_score', 'dti', 'addr_state', 'emp_length',\n",
       "       'status'],\n",
       "      dtype='object')"
      ]
     },
     "execution_count": 72,
     "metadata": {},
     "output_type": "execute_result"
    }
   ],
   "source": [
    "accepted_subset_cleaned_rs_df.columns"
   ]
  },
  {
   "cell_type": "code",
   "execution_count": 73,
   "metadata": {},
   "outputs": [
    {
     "data": {
      "text/plain": [
       "(1411479, 7)"
      ]
     },
     "execution_count": 73,
     "metadata": {},
     "output_type": "execute_result"
    }
   ],
   "source": [
    "accepted_subset_cleaned_rs_df = accepted_subset_cleaned_rs_df[accepted_subset_cleaned_rs_df['loan_amnt'].notnull() \\\n",
    "                                                              & accepted_subset_cleaned_rs_df['purpose'].notnull() \\\n",
    "                                                             & accepted_subset_cleaned_rs_df['risk_score'].notnull() \\\n",
    "                                                             & accepted_subset_cleaned_rs_df['dti'].notnull() \\\n",
    "                                                             & accepted_subset_cleaned_rs_df['addr_state'].notnull() \\\n",
    "                                                             & accepted_subset_cleaned_rs_df['emp_length'].notnull() \\\n",
    "                                                             & accepted_subset_cleaned_rs_df['status'].notnull()]\n",
    "\n",
    "\n",
    "\n",
    "\n",
    "accepted_subset_cleaned_rs_df.shape"
   ]
  },
  {
   "cell_type": "code",
   "execution_count": 74,
   "metadata": {},
   "outputs": [
    {
     "data": {
      "text/plain": [
       "(3776489, 7)"
      ]
     },
     "execution_count": 74,
     "metadata": {},
     "output_type": "execute_result"
    }
   ],
   "source": [
    "rejected_subset_cleaned_rs_df = rejected_subset_cleaned_rs_df[rejected_subset_cleaned_rs_df['loan_amnt'].notnull() \\\n",
    "                                                              & rejected_subset_cleaned_rs_df['purpose'].notnull() \\\n",
    "                                                             & rejected_subset_cleaned_rs_df['risk_score'].notnull() \\\n",
    "                                                             & rejected_subset_cleaned_rs_df['dti'].notnull() \\\n",
    "                                                             & rejected_subset_cleaned_rs_df['addr_state'].notnull() \\\n",
    "                                                             & rejected_subset_cleaned_rs_df['emp_length'].notnull() \\\n",
    "                                                             & rejected_subset_cleaned_rs_df['status'].notnull()]\n",
    "\n",
    "\n",
    "\n",
    "\n",
    "rejected_subset_cleaned_rs_df.shape"
   ]
  },
  {
   "cell_type": "code",
   "execution_count": 82,
   "metadata": {},
   "outputs": [
    {
     "data": {
      "text/plain": [
       "array([ 4,  8, 10,  0,  6,  2,  1,  3,  5,  7,  9])"
      ]
     },
     "execution_count": 82,
     "metadata": {},
     "output_type": "execute_result"
    }
   ],
   "source": [
    "rejected_subset_cleaned_rs_df = rejected_subset_cleaned_rs_df[rejected_subset_cleaned_rs_df['emp_length'] != 'n/a']\n",
    "rejected_subset_cleaned_rs_df['emp_length'].unique()\n",
    "rejected_subset_cleaned_rs_df['emp_length'] = rejected_subset_cleaned_rs_df['emp_length'].map({'4 years' : 4, '8 years' : 8, '10+ years' : 10, '< 1 year' : 0, '6 years' : 6, '2 years' : 2,\n",
    "       '1 year' : 1, '3 years' : 3, '5 years' : 5, '7 years' : 7, '9 years' : 9})\n",
    "\n",
    "rejected_subset_cleaned_rs_df['emp_length'] = rejected_subset_cleaned_rs_df['emp_length'].map(int)"
   ]
  },
  {
   "cell_type": "code",
   "execution_count": 83,
   "metadata": {},
   "outputs": [
    {
     "name": "stdout",
     "output_type": "stream",
     "text": [
      "<class 'pandas.core.frame.DataFrame'>\n",
      "Int64Index: 3741754 entries, 3015 to 16131432\n",
      "Data columns (total 7 columns):\n",
      "loan_amnt     float64\n",
      "purpose       object\n",
      "risk_score    float64\n",
      "dti           object\n",
      "addr_state    object\n",
      "emp_length    int64\n",
      "status        int64\n",
      "dtypes: float64(2), int64(2), object(3)\n",
      "memory usage: 228.4+ MB\n"
     ]
    }
   ],
   "source": [
    "rejected_subset_cleaned_rs_df.info()"
   ]
  },
  {
   "cell_type": "code",
   "execution_count": 85,
   "metadata": {},
   "outputs": [
    {
     "data": {
      "text/html": [
       "<div>\n",
       "<style>\n",
       "    .dataframe thead tr:only-child th {\n",
       "        text-align: right;\n",
       "    }\n",
       "\n",
       "    .dataframe thead th {\n",
       "        text-align: left;\n",
       "    }\n",
       "\n",
       "    .dataframe tbody tr th {\n",
       "        vertical-align: top;\n",
       "    }\n",
       "</style>\n",
       "<table border=\"1\" class=\"dataframe\">\n",
       "  <thead>\n",
       "    <tr style=\"text-align: right;\">\n",
       "      <th></th>\n",
       "      <th>loan_amnt</th>\n",
       "      <th>purpose</th>\n",
       "      <th>risk_score</th>\n",
       "      <th>dti</th>\n",
       "      <th>addr_state</th>\n",
       "      <th>emp_length</th>\n",
       "      <th>status</th>\n",
       "    </tr>\n",
       "  </thead>\n",
       "  <tbody>\n",
       "    <tr>\n",
       "      <th>3015</th>\n",
       "      <td>5000.0</td>\n",
       "      <td>other</td>\n",
       "      <td>628.0</td>\n",
       "      <td>17.81</td>\n",
       "      <td>NJ</td>\n",
       "      <td>4</td>\n",
       "      <td>0</td>\n",
       "    </tr>\n",
       "    <tr>\n",
       "      <th>3016</th>\n",
       "      <td>6000.0</td>\n",
       "      <td>other</td>\n",
       "      <td>674.0</td>\n",
       "      <td>35.13</td>\n",
       "      <td>NJ</td>\n",
       "      <td>8</td>\n",
       "      <td>0</td>\n",
       "    </tr>\n",
       "    <tr>\n",
       "      <th>3017</th>\n",
       "      <td>20000.0</td>\n",
       "      <td>debt_consolidation</td>\n",
       "      <td>710.0</td>\n",
       "      <td>36.92</td>\n",
       "      <td>FL</td>\n",
       "      <td>8</td>\n",
       "      <td>0</td>\n",
       "    </tr>\n",
       "    <tr>\n",
       "      <th>3018</th>\n",
       "      <td>10000.0</td>\n",
       "      <td>debt_consolidation</td>\n",
       "      <td>631.0</td>\n",
       "      <td>63.88</td>\n",
       "      <td>NY</td>\n",
       "      <td>10</td>\n",
       "      <td>0</td>\n",
       "    </tr>\n",
       "    <tr>\n",
       "      <th>3019</th>\n",
       "      <td>4000.0</td>\n",
       "      <td>debt_consolidation</td>\n",
       "      <td>585.0</td>\n",
       "      <td>0</td>\n",
       "      <td>LA</td>\n",
       "      <td>0</td>\n",
       "      <td>0</td>\n",
       "    </tr>\n",
       "  </tbody>\n",
       "</table>\n",
       "</div>"
      ],
      "text/plain": [
       "      loan_amnt             purpose  risk_score    dti addr_state  emp_length  \\\n",
       "3015     5000.0               other       628.0  17.81         NJ           4   \n",
       "3016     6000.0               other       674.0  35.13         NJ           8   \n",
       "3017    20000.0  debt_consolidation       710.0  36.92         FL           8   \n",
       "3018    10000.0  debt_consolidation       631.0  63.88         NY          10   \n",
       "3019     4000.0  debt_consolidation       585.0      0         LA           0   \n",
       "\n",
       "      status  \n",
       "3015       0  \n",
       "3016       0  \n",
       "3017       0  \n",
       "3018       0  \n",
       "3019       0  "
      ]
     },
     "execution_count": 85,
     "metadata": {},
     "output_type": "execute_result"
    }
   ],
   "source": [
    "rejected_subset_cleaned_rs_df['dti'] = rejected_subset_cleaned_rs_df['dti'].map(lambda x : x.replace('%', ''))\n",
    "rejected_subset_cleaned_rs_df.head()"
   ]
  },
  {
   "cell_type": "code",
   "execution_count": 94,
   "metadata": {
    "collapsed": true
   },
   "outputs": [],
   "source": [
    "rejected_subset_cleaned_rs_df['dti'] = accepted_subset_cleaned_rs_df['dti'].map(float)"
   ]
  },
  {
   "cell_type": "code",
   "execution_count": 97,
   "metadata": {},
   "outputs": [
    {
     "data": {
      "text/plain": [
       "(3741754, 7)"
      ]
     },
     "execution_count": 97,
     "metadata": {},
     "output_type": "execute_result"
    }
   ],
   "source": [
    "rejected_subset_cleaned_rs_df.shape\n"
   ]
  },
  {
   "cell_type": "code",
   "execution_count": 98,
   "metadata": {},
   "outputs": [
    {
     "data": {
      "text/plain": [
       "(1411479, 7)"
      ]
     },
     "execution_count": 98,
     "metadata": {},
     "output_type": "execute_result"
    }
   ],
   "source": [
    "accepted_subset_cleaned_rs_df.shape\n"
   ]
  },
  {
   "cell_type": "code",
   "execution_count": 99,
   "metadata": {
    "collapsed": true
   },
   "outputs": [],
   "source": [
    "classification_dataset_list = [rejected_subset_cleaned_rs_df, accepted_subset_cleaned_rs_df]\n",
    "classification_dataset = pd.concat(classification_dataset_list, ignore_index=True)\n",
    "\n",
    "\n",
    "\n"
   ]
  },
  {
   "cell_type": "code",
   "execution_count": 120,
   "metadata": {},
   "outputs": [
    {
     "data": {
      "text/plain": [
       "(5153233, 7)"
      ]
     },
     "execution_count": 120,
     "metadata": {},
     "output_type": "execute_result"
    }
   ],
   "source": [
    "classification_dataset.shape\n",
    "\n"
   ]
  },
  {
   "cell_type": "code",
   "execution_count": 121,
   "metadata": {
    "collapsed": true
   },
   "outputs": [],
   "source": [
    "temp = classification_dataset.dropna(axis=0)\n",
    "\n"
   ]
  },
  {
   "cell_type": "code",
   "execution_count": 151,
   "metadata": {
    "collapsed": true
   },
   "outputs": [],
   "source": [
    "from sklearn.cross_validation import train_test_split\n",
    "x_set = temp[['loan_amnt','risk_score', 'dti', 'emp_length']]\n",
    "y_set = temp['status']\n",
    "x_train, x_test, y_train, y_test = train_test_split(x_set, y_set, random_state=0)\n"
   ]
  },
  {
   "cell_type": "code",
   "execution_count": 152,
   "metadata": {},
   "outputs": [
    {
     "data": {
      "text/plain": [
       "0.85994803568441425"
      ]
     },
     "execution_count": 152,
     "metadata": {},
     "output_type": "execute_result"
    }
   ],
   "source": [
    "from sklearn.linear_model import LogisticRegression\n",
    "from sklearn.metrics import accuracy_score\n",
    "logistic = LogisticRegression()\n",
    "logistic.fit(x_train, y_train)\n",
    "y_pred = logistic.predict(x_test)\n",
    "accuracy_score(y_test, y_pred)\n",
    "\n",
    "\n"
   ]
  },
  {
   "cell_type": "code",
   "execution_count": 153,
   "metadata": {},
   "outputs": [
    {
     "data": {
      "text/plain": [
       "0.93574442028173688"
      ]
     },
     "execution_count": 153,
     "metadata": {},
     "output_type": "execute_result"
    }
   ],
   "source": [
    "from sklearn.ensemble import RandomForestClassifier\n",
    "from sklearn.metrics import accuracy_score\n",
    "randomForest = RandomForestClassifier(max_depth=2, random_state=0)\n",
    "randomForest.fit(x_train, y_train)\n",
    "y_pred = randomForest.predict(x_test)\n",
    "accuracy_score(y_test, y_pred)\n",
    "\n"
   ]
  },
  {
   "cell_type": "code",
   "execution_count": 181,
   "metadata": {
    "collapsed": true
   },
   "outputs": [],
   "source": [
    "purpose_dummies = pd.get_dummies(temp['purpose'])\n",
    "addr_dummies = pd.get_dummies(temp['addr_state'])"
   ]
  },
  {
   "cell_type": "code",
   "execution_count": 182,
   "metadata": {},
   "outputs": [
    {
     "data": {
      "text/plain": [
       "(2606401, 72)"
      ]
     },
     "execution_count": 182,
     "metadata": {},
     "output_type": "execute_result"
    }
   ],
   "source": [
    "temp_with_dummies = temp.join(purpose_dummies)\n",
    "temp_with_dummies = temp_with_dummies.join(addr_dummies)\n",
    "temp_with_dummies.shape"
   ]
  },
  {
   "cell_type": "code",
   "execution_count": 183,
   "metadata": {
    "collapsed": true
   },
   "outputs": [],
   "source": [
    "temp_with_dummies.drop('purpose', 1, inplace=True)\n",
    "temp_with_dummies.drop('addr_state', 1, inplace=True)"
   ]
  },
  {
   "cell_type": "code",
   "execution_count": 184,
   "metadata": {},
   "outputs": [
    {
     "data": {
      "text/plain": [
       "0.87199221609543265"
      ]
     },
     "execution_count": 184,
     "metadata": {},
     "output_type": "execute_result"
    }
   ],
   "source": [
    "x_set = temp_with_dummies.drop(['status'], axis=1)\n",
    "y_set = temp['status']\n",
    "x_train, x_test, y_train, y_test = train_test_split(x_set, y_set, random_state=0)\n",
    "logistic = LogisticRegression()\n",
    "logistic.fit(x_train, y_train)\n",
    "y_pred = logistic.predict(x_test)\n",
    "accuracy_score(y_test, y_pred)\n"
   ]
  },
  {
   "cell_type": "code",
   "execution_count": 186,
   "metadata": {},
   "outputs": [
    {
     "data": {
      "text/plain": [
       "0.93552035678275514"
      ]
     },
     "execution_count": 186,
     "metadata": {},
     "output_type": "execute_result"
    }
   ],
   "source": [
    "randomForest = RandomForestClassifier(max_depth=6, random_state=0)\n",
    "randomForest.fit(x_train, y_train)\n",
    "y_pred = randomForest.predict(x_test)\n"
   ]
  },
  {
   "cell_type": "code",
   "execution_count": 189,
   "metadata": {},
   "outputs": [
    {
     "data": {
      "text/plain": [
       "MLPClassifier(activation='relu', alpha=0.0001, batch_size='auto', beta_1=0.9,\n",
       "       beta_2=0.999, early_stopping=False, epsilon=1e-08,\n",
       "       hidden_layer_sizes=(100,), learning_rate='constant',\n",
       "       learning_rate_init=0.001, max_iter=200, momentum=0.9,\n",
       "       nesterovs_momentum=True, power_t=0.5, random_state=None,\n",
       "       shuffle=True, solver='adam', tol=0.0001, validation_fraction=0.1,\n",
       "       verbose=False, warm_start=False)"
      ]
     },
     "execution_count": 189,
     "metadata": {},
     "output_type": "execute_result"
    }
   ],
   "source": [
    "from sklearn.neural_network import MLPClassifier\n",
    "clf = MLPClassifier()\n",
    "clf.fit(x_train, y_train)"
   ]
  },
  {
   "cell_type": "code",
   "execution_count": 190,
   "metadata": {
    "collapsed": true
   },
   "outputs": [],
   "source": [
    "y_pred = clf.predict(x_test)"
   ]
  },
  {
   "cell_type": "code",
   "execution_count": 191,
   "metadata": {},
   "outputs": [
    {
     "data": {
      "text/plain": [
       "0.92353602895023179"
      ]
     },
     "execution_count": 191,
     "metadata": {},
     "output_type": "execute_result"
    }
   ],
   "source": [
    "accuracy_score(y_test, y_pred)"
   ]
  },
  {
   "cell_type": "code",
   "execution_count": 194,
   "metadata": {},
   "outputs": [
    {
     "name": "stderr",
     "output_type": "stream",
     "text": [
      "/Users/deveshkandpal/anaconda/lib/python3.6/site-packages/matplotlib/axes/_axes.py:545: UserWarning: No labelled objects found. Use label='...' kwarg on individual plots.\n",
      "  warnings.warn(\"No labelled objects found. \"\n"
     ]
    },
    {
     "data": {
      "image/png": "[encoded data removed]",
      "text/plain": [
       "<matplotlib.figure.Figure at 0x1a4dfd3b38>"
      ]
     },
     "metadata": {},
     "output_type": "display_data"
    }
   ],
   "source": [
    "from sklearn.metrics import roc_curve\n",
    "from sklearn.metrics import auc\n",
    "\n",
    "fpr, tpr, thresholds = roc_curve(y_test, y_pred)\n",
    "#roc_auc = auc(y_test, y_pred)\n",
    "\n",
    "# Plot ROC curve\n",
    "plt.plot(fpr, tpr)\n",
    "plt.plot([0, 1], [0, 1], 'k--')  # random predictions curve\n",
    "plt.xlim([0.0, 1.0])\n",
    "plt.ylim([0.0, 1.0])\n",
    "plt.xlabel('False Positive Rate or (1 - Specifity)')\n",
    "plt.ylabel('True Positive Rate or (Sensitivity)')\n",
    "plt.title('Receiver Operating Characteristic')\n",
    "plt.legend(loc=\"lower right\")"
   ]
  },
  {
   "cell_type": "code",
   "execution_count": 196,
   "metadata": {},
   "outputs": [
    {
     "data": {
      "text/plain": [
       "array([[278401,  20451],\n",
       "       [ 29373, 323376]])"
      ]
     },
     "execution_count": 196,
     "metadata": {},
     "output_type": "execute_result"
    }
   ],
   "source": [
    "from sklearn.metrics import confusion_matrix\n",
    "confusion_matrix(y_pred=y_pred, y_true=y_test)"
   ]
  },
  {
   "cell_type": "code",
   "execution_count": 201,
   "metadata": {},
   "outputs": [
    {
     "data": {
      "text/plain": [
       "(3659271, 7)"
      ]
     },
     "execution_count": 201,
     "metadata": {},
     "output_type": "execute_result"
    }
   ],
   "source": [
    "rejected_subset_cleaned_rs_df[rejected_subset_cleaned_rs_df['risk_score'] >=300]"
   ]
  }
 ],
 "metadata": {
  "kernelspec": {
   "display_name": "Python 3",
   "language": "python",
   "name": "python3"
  },
  "language_info": {
   "codemirror_mode": {
    "name": "ipython",
    "version": 3
   },
   "file_extension": ".py",
   "mimetype": "text/x-python",
   "name": "python",
   "nbconvert_exporter": "python",
   "pygments_lexer": "ipython3",
   "version": "3.6.3"
  }
 },
 "nbformat": 4,
 "nbformat_minor": 2
}
