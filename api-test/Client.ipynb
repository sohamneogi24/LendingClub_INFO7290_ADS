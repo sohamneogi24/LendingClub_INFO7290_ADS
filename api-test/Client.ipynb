{
 "cells": [
  {
   "cell_type": "code",
   "execution_count": 2,
   "metadata": {
    "collapsed": true
   },
   "outputs": [],
   "source": [
    "import requests\n"
   ]
  },
  {
   "cell_type": "code",
   "execution_count": 3,
   "metadata": {},
   "outputs": [
    {
     "data": {
      "text/plain": [
       "<Response [400]>"
      ]
     },
     "execution_count": 3,
     "metadata": {},
     "output_type": "execute_result"
    }
   ],
   "source": [
    "response = requests.post('https://ussouthcentral.services.azureml.net/workspaces/dd6f0861321b4cbb94c8ce34ad6cce07/services/6a09edd18f4945668d5944673cb7e1ac/execute?api-version=2.0&details=true',\n",
    "    headers = {\n",
    "        'Authorization':('Bearer '+ 'EYbsH5PWMxic/GyKSVjIeycEn2wI0ZYCaSMIefCm9w5JrEcGQlKym7MBaQ/ymCEDhUumz1Zsv64z9qUXSGak0Q=='),\n",
    "        \"Content-Type\": \"application/json\"\n",
    "    },\n",
    "    json ={\n",
    " \n",
    "        \"Inputs\": {\n",
    " \n",
    "                \"input1\":\n",
    "               {\n",
    "                    \"ColumnNames\": ['loan_amnt', 'risk_score', 'income', 'debt', 'emp_length','term','purpose'],\n",
    "                    \"Values\": [ [ \"1500\", \"350\", \"60000\", \"2000\" ,\"5\",\"36\",\"Education\"] ]\n",
    "                },        },\n",
    "            \"GlobalParameters\": {\n",
    "}\n",
    "    }\n",
    ")\n",
    "respone = response.json()\n",
    "response"
   ]
  }
 ],
 "metadata": {
  "kernelspec": {
   "display_name": "Python 3",
   "language": "python",
   "name": "python3"
  },
  "language_info": {
   "codemirror_mode": {
    "name": "ipython",
    "version": 3
   },
   "file_extension": ".py",
   "mimetype": "text/x-python",
   "name": "python",
   "nbconvert_exporter": "python",
   "pygments_lexer": "ipython3",
   "version": "3.6.3"
  }
 },
 "nbformat": 4,
 "nbformat_minor": 2
}
